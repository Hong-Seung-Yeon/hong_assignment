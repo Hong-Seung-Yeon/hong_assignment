{
  "nbformat": 4,
  "nbformat_minor": 0,
  "metadata": {
    "colab": {
      "provenance": [],
      "authorship_tag": "ABX9TyOrsOi+uot1fz4H9gQMlsxF",
      "include_colab_link": true
    },
    "kernelspec": {
      "name": "python3",
      "display_name": "Python 3"
    },
    "language_info": {
      "name": "python"
    }
  },
  "cells": [
    {
      "cell_type": "markdown",
      "metadata": {
        "id": "view-in-github",
        "colab_type": "text"
      },
      "source": [
        "<a href=\"https://colab.research.google.com/github/Hong-Seung-Yeon/hong_assignment/blob/main/average_word_embedding.ipynb\" target=\"_parent\"><img src=\"https://colab.research.google.com/assets/colab-badge.svg\" alt=\"Open In Colab\"/></a>"
      ]
    },
    {
      "cell_type": "markdown",
      "source": [
        "## 1. 데이터 로드와 전처리"
      ],
      "metadata": {
        "id": "aZIIZmiGWr3W"
      }
    },
    {
      "cell_type": "code",
      "execution_count": null,
      "metadata": {
        "id": "dZhSGiMvWi-y"
      },
      "outputs": [],
      "source": [
        "import numpy as np\n",
        "from tensorflow.keras.datasets import imdb\n",
        "from tensorflow.keras.preprocessing.sequence import pad_sequences"
      ]
    },
    {
      "cell_type": "code",
      "source": [
        "vocab_size = 20000\n",
        "\n",
        "(X_train, y_train), (X_test, y_test) = imdb.load_data(num_words=vocab_size)\n",
        "print('훈련용 리뷰 개수 :',len(X_train))\n",
        "print('테스트용 리뷰 개수 :',len(X_test))"
      ],
      "metadata": {
        "colab": {
          "base_uri": "https://localhost:8080/"
        },
        "id": "xsAg5v8vWo8P",
        "outputId": "a1fed73c-2dc5-4584-cc23-a987d474c12d"
      },
      "execution_count": null,
      "outputs": [
        {
          "output_type": "stream",
          "name": "stdout",
          "text": [
            "Downloading data from https://storage.googleapis.com/tensorflow/tf-keras-datasets/imdb.npz\n",
            "17464789/17464789 [==============================] - 0s 0us/step\n",
            "훈련용 리뷰 개수 : 25000\n",
            "테스트용 리뷰 개수 : 25000\n"
          ]
        }
      ]
    },
    {
      "cell_type": "code",
      "source": [
        "print('훈련 데이터의 첫번째 샘플 :',X_train[0])\n",
        "print('훈련 데이터의 첫번째 샘플의 레이블 :', y_train[0])"
      ],
      "metadata": {
        "colab": {
          "base_uri": "https://localhost:8080/"
        },
        "id": "JIxshmIBWyuP",
        "outputId": "8ac3c4c3-2a22-4667-ad31-44097bef02e6"
      },
      "execution_count": null,
      "outputs": [
        {
          "output_type": "stream",
          "name": "stdout",
          "text": [
            "훈련 데이터의 첫번째 샘플 : [1, 14, 22, 16, 43, 530, 973, 1622, 1385, 65, 458, 4468, 66, 3941, 4, 173, 36, 256, 5, 25, 100, 43, 838, 112, 50, 670, 2, 9, 35, 480, 284, 5, 150, 4, 172, 112, 167, 2, 336, 385, 39, 4, 172, 4536, 1111, 17, 546, 38, 13, 447, 4, 192, 50, 16, 6, 147, 2025, 19, 14, 22, 4, 1920, 4613, 469, 4, 22, 71, 87, 12, 16, 43, 530, 38, 76, 15, 13, 1247, 4, 22, 17, 515, 17, 12, 16, 626, 18, 19193, 5, 62, 386, 12, 8, 316, 8, 106, 5, 4, 2223, 5244, 16, 480, 66, 3785, 33, 4, 130, 12, 16, 38, 619, 5, 25, 124, 51, 36, 135, 48, 25, 1415, 33, 6, 22, 12, 215, 28, 77, 52, 5, 14, 407, 16, 82, 10311, 8, 4, 107, 117, 5952, 15, 256, 4, 2, 7, 3766, 5, 723, 36, 71, 43, 530, 476, 26, 400, 317, 46, 7, 4, 12118, 1029, 13, 104, 88, 4, 381, 15, 297, 98, 32, 2071, 56, 26, 141, 6, 194, 7486, 18, 4, 226, 22, 21, 134, 476, 26, 480, 5, 144, 30, 5535, 18, 51, 36, 28, 224, 92, 25, 104, 4, 226, 65, 16, 38, 1334, 88, 12, 16, 283, 5, 16, 4472, 113, 103, 32, 15, 16, 5345, 19, 178, 32]\n",
            "훈련 데이터의 첫번째 샘플의 레이블 : 1\n"
          ]
        }
      ]
    },
    {
      "cell_type": "code",
      "source": [
        "print('훈련용 리뷰의 평규 길이: {}'.format(np.mean(list(map(len, X_train)), dtype=int)))\n",
        "print('테스트용 리뷰의 평균 길이: {}'.format(np.mean(list(map(len, X_test)), dtype=int)))"
      ],
      "metadata": {
        "colab": {
          "base_uri": "https://localhost:8080/"
        },
        "id": "nPsF2T_XW6Oj",
        "outputId": "ae7753f7-4f15-4ebc-a73e-abde4af311fc"
      },
      "execution_count": null,
      "outputs": [
        {
          "output_type": "stream",
          "name": "stdout",
          "text": [
            "훈련용 리뷰의 평규 길이: 238\n",
            "테스트용 리뷰의 평균 길이: 230\n"
          ]
        }
      ]
    },
    {
      "cell_type": "code",
      "source": [
        "max_len = 400\n",
        "\n",
        "X_train = pad_sequences(X_train, maxlen=max_len)\n",
        "X_test = pad_sequences(X_test, maxlen=max_len)\n",
        "print('X_train의 크기(shape) :', X_train.shape)\n",
        "print('X_test의 크기(shape) :', X_test.shape)"
      ],
      "metadata": {
        "colab": {
          "base_uri": "https://localhost:8080/"
        },
        "id": "xV0_npnMW8FE",
        "outputId": "e8c2883a-1e39-42fc-cbea-831ba12a61eb"
      },
      "execution_count": null,
      "outputs": [
        {
          "output_type": "stream",
          "name": "stdout",
          "text": [
            "X_train의 크기(shape) : (25000, 400)\n",
            "X_test의 크기(shape) : (25000, 400)\n"
          ]
        }
      ]
    },
    {
      "cell_type": "markdown",
      "source": [
        "## 2. 모델 설계하기"
      ],
      "metadata": {
        "id": "26vQG_EeW-8W"
      }
    },
    {
      "cell_type": "code",
      "source": [
        "from tensorflow.keras.models import Sequential, load_model\n",
        "from tensorflow.keras.layers import Dense, Embedding, GlobalAveragePooling1D\n",
        "from tensorflow.keras.callbacks import EarlyStopping, ModelCheckpoint\n",
        "\n",
        "embedding_dim = 64\n",
        "\n",
        "model = Sequential()\n",
        "model.add(Embedding(vocab_size, embedding_dim))\n",
        "\n",
        "# 모든 단어 벡터의 평균을 구한다.\n",
        "model.add(GlobalAveragePooling1D())\n",
        "model.add(Dense(1, activation='sigmoid'))\n",
        "\n",
        "es = EarlyStopping(monitor='val_loss', mode='min', verbose=1, patience=4)\n",
        "mc = ModelCheckpoint('embedding_average_model.h5', monitor='val_acc', mode='max', verbose=1, save_best_only=True)\n",
        "\n",
        "model.compile(loss='binary_crossentropy', optimizer='adam', metrics=['acc'])\n",
        "model.fit(X_train, y_train, batch_size=32, epochs=10, callbacks=[es, mc], validation_split=0.2)"
      ],
      "metadata": {
        "colab": {
          "base_uri": "https://localhost:8080/"
        },
        "id": "jacH1paYW-sD",
        "outputId": "61d2857e-bbc1-46de-b8a9-72015a3c196b"
      },
      "execution_count": null,
      "outputs": [
        {
          "output_type": "stream",
          "name": "stdout",
          "text": [
            "Epoch 1/10\n",
            "625/625 [==============================] - ETA: 0s - loss: 0.6287 - acc: 0.7232\n",
            "Epoch 1: val_acc improved from -inf to 0.81860, saving model to embedding_average_model.h5\n",
            "625/625 [==============================] - 17s 27ms/step - loss: 0.6287 - acc: 0.7232 - val_loss: 0.5189 - val_acc: 0.8186\n",
            "Epoch 2/10\n",
            "623/625 [============================>.] - ETA: 0s - loss: 0.4268 - acc: 0.8568\n",
            "Epoch 2: val_acc improved from 0.81860 to 0.86620, saving model to embedding_average_model.h5\n",
            "625/625 [==============================] - 15s 24ms/step - loss: 0.4269 - acc: 0.8566 - val_loss: 0.3761 - val_acc: 0.8662\n",
            "Epoch 3/10\n",
            "624/625 [============================>.] - ETA: 0s - loss: 0.3167 - acc: 0.8915\n",
            "Epoch 3: val_acc improved from 0.86620 to 0.87780, saving model to embedding_average_model.h5\n",
            "625/625 [==============================] - 15s 24ms/step - loss: 0.3166 - acc: 0.8917 - val_loss: 0.3230 - val_acc: 0.8778\n",
            "Epoch 4/10\n",
            "625/625 [==============================] - ETA: 0s - loss: 0.2600 - acc: 0.9099\n",
            "Epoch 4: val_acc improved from 0.87780 to 0.88100, saving model to embedding_average_model.h5\n",
            "625/625 [==============================] - 15s 25ms/step - loss: 0.2600 - acc: 0.9099 - val_loss: 0.3051 - val_acc: 0.8810\n",
            "Epoch 5/10\n",
            "623/625 [============================>.] - ETA: 0s - loss: 0.2228 - acc: 0.9237\n",
            "Epoch 5: val_acc improved from 0.88100 to 0.88840, saving model to embedding_average_model.h5\n",
            "625/625 [==============================] - 16s 25ms/step - loss: 0.2227 - acc: 0.9238 - val_loss: 0.2830 - val_acc: 0.8884\n",
            "Epoch 6/10\n",
            "625/625 [==============================] - ETA: 0s - loss: 0.1946 - acc: 0.9348\n",
            "Epoch 6: val_acc improved from 0.88840 to 0.89060, saving model to embedding_average_model.h5\n",
            "625/625 [==============================] - 15s 24ms/step - loss: 0.1946 - acc: 0.9348 - val_loss: 0.2760 - val_acc: 0.8906\n",
            "Epoch 7/10\n",
            "623/625 [============================>.] - ETA: 0s - loss: 0.1713 - acc: 0.9425\n",
            "Epoch 7: val_acc improved from 0.89060 to 0.89280, saving model to embedding_average_model.h5\n",
            "625/625 [==============================] - 15s 24ms/step - loss: 0.1713 - acc: 0.9424 - val_loss: 0.2731 - val_acc: 0.8928\n",
            "Epoch 8/10\n",
            "625/625 [==============================] - ETA: 0s - loss: 0.1509 - acc: 0.9510\n",
            "Epoch 8: val_acc improved from 0.89280 to 0.89360, saving model to embedding_average_model.h5\n",
            "625/625 [==============================] - 15s 24ms/step - loss: 0.1509 - acc: 0.9510 - val_loss: 0.2711 - val_acc: 0.8936\n",
            "Epoch 9/10\n",
            "623/625 [============================>.] - ETA: 0s - loss: 0.1344 - acc: 0.9574\n",
            "Epoch 9: val_acc improved from 0.89360 to 0.89580, saving model to embedding_average_model.h5\n",
            "625/625 [==============================] - 15s 24ms/step - loss: 0.1342 - acc: 0.9575 - val_loss: 0.2739 - val_acc: 0.8958\n",
            "Epoch 10/10\n",
            "624/625 [============================>.] - ETA: 0s - loss: 0.1187 - acc: 0.9635\n",
            "Epoch 10: val_acc improved from 0.89580 to 0.89680, saving model to embedding_average_model.h5\n",
            "625/625 [==============================] - 15s 24ms/step - loss: 0.1188 - acc: 0.9635 - val_loss: 0.2791 - val_acc: 0.8968\n"
          ]
        },
        {
          "output_type": "execute_result",
          "data": {
            "text/plain": [
              "<keras.callbacks.History at 0x7f22b352fcd0>"
            ]
          },
          "metadata": {},
          "execution_count": 7
        }
      ]
    },
    {
      "cell_type": "code",
      "source": [
        "loaded_model = load_model('embedding_average_model.h5')\n",
        "print(\"\\n 테스트 정확도: %.4f\" % (loaded_model.evaluate(X_test, y_test)[1]))"
      ],
      "metadata": {
        "colab": {
          "base_uri": "https://localhost:8080/"
        },
        "id": "HU485diMXCZ_",
        "outputId": "1d1c4471-624f-43ef-9a5b-b0d832374f2d"
      },
      "execution_count": null,
      "outputs": [
        {
          "output_type": "stream",
          "name": "stdout",
          "text": [
            "782/782 [==============================] - 3s 3ms/step - loss: 0.2921 - acc: 0.8864\n",
            "\n",
            " 테스트 정확도: 0.8864\n"
          ]
        }
      ]
    }
  ]
}